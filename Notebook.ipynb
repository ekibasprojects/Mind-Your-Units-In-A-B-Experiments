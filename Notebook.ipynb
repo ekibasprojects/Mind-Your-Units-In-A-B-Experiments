{
 "cells": [
  {
   "cell_type": "markdown",
   "metadata": {
    "id": "hEETScActzKi"
   },
   "source": [
    "## Mind Your Units In A Group-Randomized Experiment \n",
    "\n",
    "This is a bootstrap simulation that demonstrates the importance of accounting for the group structure as opposed to ignoring it in a group-randomized trials when performing causal inference. It is based on the [\"Mind Your Units\"](https://www.unofficialgoogledatascience.com/2016/08/mind-your-units.html) article published by Google. \n",
    "\n",
    "The simulation shows how ignoring the group structure leads to increasingly optimistic inferences, while accounting for the group structure leads to preserving the accurate coverage regardless of group size."
   ]
  },
  {
   "cell_type": "code",
   "execution_count": 1,
   "metadata": {
    "id": "-3iVSMEJyYzX"
   },
   "outputs": [],
   "source": [
    "import numpy as np\n",
    "import pandas as pd\n",
    "import matplotlib.pyplot as plt\n",
    "import seaborn as sns\n",
    "import random\n",
    "\n",
    "plt.style.use('ggplot')"
   ]
  },
  {
   "cell_type": "code",
   "execution_count": 2,
   "metadata": {
    "id": "6T8625OHycqF"
   },
   "outputs": [],
   "source": [
    "def getBootstrapSamples(data, ignoreGroupStruct, repeats = 2000, flatten = True):\n",
    "    '''\n",
    "    Function to get bootstrap samples by sampling with replacement from 'data'\n",
    "    \n",
    "    Args:\n",
    "      data:                      Numeric array of data.\n",
    "      ignoreGroupStruct:         Flag to indicate whether to ignore within-group dependence.\n",
    "      repeats:                   Number of replicates.\n",
    "      flatten:                   Flatten array.\n",
    "\n",
    "    Returns:\n",
    "      List of bootstrap samples\n",
    "    '''\n",
    "    \n",
    "    containsNumpyArrays = np.sum([isinstance(el, np.ndarray) for el in data]) > 0\n",
    "    \n",
    "    # Create bootstrap samples.\n",
    "    if ignoreGroupStruct:\n",
    "        if containsNumpyArrays:\n",
    "            data = np.concatenate(data)\n",
    "        nGroups = len(data)\n",
    "        samples = [np.random.choice(data, nGroups, replace=True) for i in range(repeats)]\n",
    "    else:\n",
    "        nGroups = len(data)\n",
    "        sampleIndices = [np.random.choice(range(nGroups), nGroups, replace=True) for i in range(repeats)]\n",
    "        samples = list(map(lambda arrIndices: [data[idx] for idx in arrIndices], sampleIndices))\n",
    "        if flatten:\n",
    "            samples = [np.concatenate(x) for x in samples]\n",
    "        \n",
    "    return samples"
   ]
  },
  {
   "cell_type": "code",
   "execution_count": 3,
   "metadata": {
    "id": "SU1so775ydTu"
   },
   "outputs": [],
   "source": [
    "def computeBootstrapMeanCI(data, ignoreGroupStruct, repeats = 2000):\n",
    "    '''\n",
    "    Function to calculate confidence intervals for the mean via bootstrap.\n",
    "    For bootstrap, we sample with replacement and each replicate is same size\n",
    "    as original data; 95% CI obtained empirically by taking percentiles.\n",
    "    \n",
    "    Args:\n",
    "      data:                      Numeric array of data.\n",
    "      ignoreGroupStruct:         Flag to indicate whether to ignore within-group dependence.\n",
    "      repeats:                   Number of bootstrap replicates.\n",
    "    \n",
    "    Returns:\n",
    "      Mean and half-width of a 95% CI.\n",
    "    '''\n",
    "    # Get bootstrap samples.\n",
    "    samples = getBootstrapSamples(data, ignoreGroupStruct, repeats)\n",
    "    \n",
    "    # Get sampling distribution and summarize empirically.\n",
    "    means = [np.mean(arr) for arr in samples]\n",
    "    mean = np.mean(means)\n",
    "    halfWidth = (np.diff(np.quantile(means, (0.025, 0.975))) / 2)[0]\n",
    "    \n",
    "    return mean, halfWidth"
   ]
  },
  {
   "cell_type": "code",
   "execution_count": 4,
   "metadata": {
    "id": "P1vZCNbMyhEx"
   },
   "outputs": [],
   "source": [
    "# Inputs\n",
    "\n",
    "numGroups = 50000  # Total number of groups for all simulations.\n",
    "groupSd = 1  # This is the standard deviation for group level means.\n",
    "withinGroupShrink = 0.25  # Shrinks standard dev. of w/in group observations.\n",
    "lambdaVector = [0, 0.2, 0.4, 0.6, 0.8, 1, 1.2]  # Poisson parameter for group size.\n",
    "numReplicates = 2000  # Number of replicates for bootstrap.\n",
    "numCoverageRepeats = 100  # Number of repeats for coverage calculation.\n",
    "numCoverageCIRepeats = 10  # Number of repeats for coverage intervals calculation."
   ]
  },
  {
   "cell_type": "code",
   "execution_count": 5,
   "metadata": {
    "colab": {
     "base_uri": "https://localhost:8080/",
     "height": 266
    },
    "id": "wsXkWPNUXFSh",
    "outputId": "dc22ae25-58c1-4051-9ba2-c0dea4d5d74c"
   },
   "outputs": [
    {
     "data": {
      "text/html": [
       "<div>\n",
       "<style scoped>\n",
       "    .dataframe tbody tr th:only-of-type {\n",
       "        vertical-align: middle;\n",
       "    }\n",
       "\n",
       "    .dataframe tbody tr th {\n",
       "        vertical-align: top;\n",
       "    }\n",
       "\n",
       "    .dataframe thead th {\n",
       "        text-align: right;\n",
       "    }\n",
       "</style>\n",
       "<table border=\"1\" class=\"dataframe\">\n",
       "  <thead>\n",
       "    <tr style=\"text-align: right;\">\n",
       "      <th></th>\n",
       "      <th>Lambda</th>\n",
       "      <th>% groups with more than one observation</th>\n",
       "      <th># observations</th>\n",
       "      <th>CI half-width (ignore)</th>\n",
       "      <th>CI half-width (account for)</th>\n",
       "    </tr>\n",
       "  </thead>\n",
       "  <tbody>\n",
       "    <tr>\n",
       "      <th>0</th>\n",
       "      <td>0</td>\n",
       "      <td>0.0%</td>\n",
       "      <td>50000</td>\n",
       "      <td>0.008983</td>\n",
       "      <td>0.008874</td>\n",
       "    </tr>\n",
       "    <tr>\n",
       "      <th>1</th>\n",
       "      <td>0.2</td>\n",
       "      <td>18.31%</td>\n",
       "      <td>60091</td>\n",
       "      <td>0.008172</td>\n",
       "      <td>0.009410</td>\n",
       "    </tr>\n",
       "    <tr>\n",
       "      <th>2</th>\n",
       "      <td>0.4</td>\n",
       "      <td>33.14%</td>\n",
       "      <td>70107</td>\n",
       "      <td>0.007769</td>\n",
       "      <td>0.009943</td>\n",
       "    </tr>\n",
       "    <tr>\n",
       "      <th>3</th>\n",
       "      <td>0.6</td>\n",
       "      <td>45.18%</td>\n",
       "      <td>80094</td>\n",
       "      <td>0.007098</td>\n",
       "      <td>0.009401</td>\n",
       "    </tr>\n",
       "    <tr>\n",
       "      <th>4</th>\n",
       "      <td>0.8</td>\n",
       "      <td>55.14%</td>\n",
       "      <td>89873</td>\n",
       "      <td>0.006571</td>\n",
       "      <td>0.009754</td>\n",
       "    </tr>\n",
       "    <tr>\n",
       "      <th>5</th>\n",
       "      <td>1</td>\n",
       "      <td>63.26%</td>\n",
       "      <td>100152</td>\n",
       "      <td>0.006312</td>\n",
       "      <td>0.009918</td>\n",
       "    </tr>\n",
       "    <tr>\n",
       "      <th>6</th>\n",
       "      <td>1.2</td>\n",
       "      <td>69.92%</td>\n",
       "      <td>110106</td>\n",
       "      <td>0.006100</td>\n",
       "      <td>0.009833</td>\n",
       "    </tr>\n",
       "  </tbody>\n",
       "</table>\n",
       "</div>"
      ],
      "text/plain": [
       "  Lambda  ... CI half-width (account for)\n",
       "0      0  ...                    0.008874\n",
       "1    0.2  ...                    0.009410\n",
       "2    0.4  ...                    0.009943\n",
       "3    0.6  ...                    0.009401\n",
       "4    0.8  ...                    0.009754\n",
       "5      1  ...                    0.009918\n",
       "6    1.2  ...                    0.009833\n",
       "\n",
       "[7 rows x 5 columns]"
      ]
     },
     "execution_count": 5,
     "metadata": {
      "tags": []
     },
     "output_type": "execute_result"
    }
   ],
   "source": [
    "# Helper function to generate per-group observations.    \n",
    "def SimulateGroupObservations(data):\n",
    "    return np.random.normal(data[1], withinGroupShrink * groupSd, int(data[2]))\n",
    "\n",
    "# Create a summary data frame to store results in.\n",
    "summary = pd.DataFrame(columns=[\"Lambda\", \n",
    "                                \"% groups with more than one observation\", \n",
    "                                \"# observations\", \n",
    "                                \"CI half-width (ignore)\", \n",
    "                                \"CI half-width (account for)\"])\n",
    "\n",
    "# Generate the mean for each group and use this for all runs of simulation.\n",
    "groupMeans = np.random.normal(0, groupSd, numGroups)\n",
    "\n",
    "for param in lambdaVector:\n",
    "    groupSizes = np.random.poisson(param, numGroups) + 1\n",
    "\n",
    "    # Make data frame with group size & group mean for ease of computation.    \n",
    "    groupDF = pd.DataFrame({\n",
    "        \"id\": np.arange(1, numGroups + 1),\n",
    "        \"mean\": groupMeans,\n",
    "        \"size\": groupSizes\n",
    "    })\n",
    "\n",
    "    # Generate vector of per-group observations for all groups.\n",
    "    obs = np.array([SimulateGroupObservations(x) for x in groupDF.values], dtype=object)\n",
    "\n",
    "    # Compute CI pretending that each observation is independent.        \n",
    "    ignoreCI = computeBootstrapMeanCI(obs, True, numReplicates)\n",
    "\n",
    "    # Compute CI accounting for the group structure.\n",
    "    includeCI = computeBootstrapMeanCI(obs, False, numReplicates)    \n",
    "\n",
    "    # Formulate data frame to summarize results.\n",
    "    row = [param, \n",
    "           str(round(np.sum(groupSizes > 1) / numGroups * 100, 2)) + \"%\", \n",
    "           np.sum(groupSizes), \n",
    "           ignoreCI[1], \n",
    "           includeCI[1]]\n",
    "    summary.loc[len(summary)] = row\n",
    "    \n",
    "summary"
   ]
  },
  {
   "cell_type": "code",
   "execution_count": 6,
   "metadata": {
    "id": "T07WdzXpyi-l"
   },
   "outputs": [],
   "source": [
    "# Create a summary data frame to store results in.\n",
    "coverageSummary = pd.DataFrame(columns=[\"Lambda\", \"Sim Type\", \"Coverage\"])\n",
    "\n",
    "# True value of the estimand\n",
    "estimand = 0\n",
    "\n",
    "# Generate the mean for each group and use this for all runs of simulation.\n",
    "groupMeans = np.random.normal(0, groupSd, numGroups)\n",
    "\n",
    "for param in lambdaVector:\n",
    "    groupSizes = np.random.poisson(param, numGroups) + 1\n",
    "\n",
    "    # Make data frame with group size & group mean for ease of computation.    \n",
    "    groupDF = pd.DataFrame({\n",
    "        \"id\": np.arange(1, numGroups + 1),\n",
    "        \"mean\": groupMeans,\n",
    "        \"size\": groupSizes\n",
    "    })\n",
    "\n",
    "    for i in range(numCoverageCIRepeats):\n",
    "\n",
    "        # Case for ignoring the group structure\n",
    "        ignoreCov = 0\n",
    "        includeCov = 0\n",
    "        for j in range(numCoverageRepeats):\n",
    "\n",
    "            # Generate vector of per-group observations for all groups.\n",
    "            obs = np.array([SimulateGroupObservations(x) for x in groupDF.values], dtype=object)\n",
    "\n",
    "            # Compute CI pretending that each observation is independent.        \n",
    "            ignoreM, ignoreCI = computeBootstrapMeanCI(obs, True, numReplicates)\n",
    "\n",
    "            # Count if the true value of the estimand lies in the interval.\n",
    "            if estimand >= ignoreM - ignoreCI and estimand <= ignoreM + ignoreCI:\n",
    "                ignoreCov += 1\n",
    "\n",
    "            # Compute CI accounting for the group structure.\n",
    "            includeM, includeCI = computeBootstrapMeanCI(obs, False, numReplicates)\n",
    "\n",
    "            # Count if the true value of the estimand lies in the interval.\n",
    "            if estimand >= includeM - includeCI and estimand <= includeM + includeCI:\n",
    "                includeCov += 1\n",
    "\n",
    "        # Add the calculated coverage for the \"ignore\" case to the summary data frame.\n",
    "        row = [param, \n",
    "               \"Ignore group\",\n",
    "               ignoreCov / numCoverageRepeats]\n",
    "        coverageSummary.loc[len(coverageSummary)] = row            \n",
    "\n",
    "        # Add the calculated coverage for the \"include\" case to the summary data frame.\n",
    "        row = [param, \n",
    "               \"Account for group\",\n",
    "               includeCov / numCoverageRepeats]\n",
    "        coverageSummary.loc[len(coverageSummary)] = row"
   ]
  },
  {
   "cell_type": "code",
   "execution_count": 7,
   "metadata": {
    "colab": {
     "base_uri": "https://localhost:8080/",
     "height": 642
    },
    "id": "Pi2ZAMpcW-jA",
    "outputId": "3ea1bd15-9604-4108-923a-214a13138cbd"
   },
   "outputs": [
    {
     "data": {
      "image/png": "[encoded data removed]",
      "text/plain": [
       "<Figure size 1080x720 with 1 Axes>"
      ]
     },
     "metadata": {
      "needs_background": "light",
      "tags": []
     },
     "output_type": "display_data"
    }
   ],
   "source": [
    "fig, ax = plt.subplots(figsize=(15, 10))\n",
    "sns.pointplot(x=\"Lambda\", y=\"Coverage\", hue=\"Sim Type\", data=coverageSummary, ci=\"sd\", errwidth=2, capsize=0.5, join=False)\n",
    "ax.axhline(0.95, ls='--', lw=2, color='gray')\n",
    "ax.set_title(\"Comparison of empirical coverage\\nDashed blue line at target 95%\")\n",
    "ax.set_ylabel(\"Empirical coverage from 1000 simulations\")\n",
    "plt.legend(loc='lower left');"
   ]
  }
 ],
 "metadata": {
  "colab": {
   "collapsed_sections": [],
   "name": "Notebook.ipynb",
   "provenance": []
  },
  "kernelspec": {
   "display_name": "Python 3",
   "language": "python",
   "name": "python3"
  },
  "language_info": {
   "codemirror_mode": {
    "name": "ipython",
    "version": 3
   },
   "file_extension": ".py",
   "mimetype": "text/x-python",
   "name": "python",
   "nbconvert_exporter": "python",
   "pygments_lexer": "ipython3",
   "version": "3.8.5"
  }
 },
 "nbformat": 4,
 "nbformat_minor": 1
}
